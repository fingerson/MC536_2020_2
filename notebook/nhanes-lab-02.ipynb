{
 "cells": [
  {
   "cell_type": "code",
   "execution_count": 1,
   "metadata": {},
   "outputs": [],
   "source": [
    "%defaultDatasource jdbc:h2:mem:db"
   ]
  },
  {
   "cell_type": "markdown",
   "metadata": {},
   "source": [
    "# Analisando o Uso de Medicamentos\n",
    "* Esta tarefa analisará os dados conforme três abordagens: análise do comportamento estatístico; análise de correlação entre pares; análise de correlação de variáveis.\n",
    "* A partir dos arquivos CSV que estão no diretórios /data/nhanes considere as seguintes tabelas SQL."
   ]
  },
  {
   "cell_type": "code",
   "execution_count": 2,
   "metadata": {},
   "outputs": [],
   "source": [
    "CREATE TABLE Pessoa (\n",
    "  Id VARCHAR(5) NOT NULL,\n",
    "  Genero INTEGER,\n",
    "  Idade INTEGER,\n",
    "  PRIMARY KEY(Id)\n",
    ") AS SELECT\n",
    "    Id,\n",
    "    Genero,\n",
    "    Idade\n",
    "FROM CSVREAD('../../../data/nhanes/demographic-person.csv');\n",
    "\n",
    "CREATE TABLE Medicamento (\n",
    "  Codigo VARCHAR(6) NOT NULL,\n",
    "  NomeMedicamento VARCHAR(100) NOT NULL,\n",
    "  PRIMARY KEY(Codigo)\n",
    ") AS SELECT\n",
    "    Codigo,\n",
    "    NomeMedicamento\n",
    "FROM CSVREAD('../../../data/nhanes/medications-drug.csv');\n",
    "\n",
    "CREATE TABLE UsoMedicamento (\n",
    "  IdPessoa VARCHAR(5) NOT NULL,\n",
    "  CodMedicamento VARCHAR(6) NOT NULL,\n",
    "  DiasUso INTEGER,\n",
    "  FOREIGN KEY(IdPessoa)\n",
    "    REFERENCES Pessoa(Id)\n",
    "      ON DELETE NO ACTION\n",
    "      ON UPDATE NO ACTION,\n",
    "  FOREIGN KEY(CodMedicamento)\n",
    "    REFERENCES Medicamento(Codigo)\n",
    "      ON DELETE NO ACTION\n",
    "      ON UPDATE NO ACTION\n",
    ") AS SELECT\n",
    "    IdPessoa,\n",
    "    CodMedicamento,\n",
    "    DiasUso\n",
    "FROM CSVREAD('../../../data/nhanes/medications-use.csv');"
   ]
  },
  {
   "cell_type": "code",
   "execution_count": 3,
   "metadata": {},
   "outputs": [
    {
     "data": {
      "application/vnd.jupyter.widget-view+json": {
       "model_id": "55d06675-5c4d-4e79-9e16-a01a7fc27ce7",
       "version_major": 2,
       "version_minor": 0
      },
      "method": "display_data"
     },
     "metadata": {},
     "output_type": "display_data"
    },
    {
     "data": {
      "application/vnd.jupyter.widget-view+json": {
       "model_id": "47a69e9c-abd3-45ec-9700-ad82267566f4",
       "version_major": 2,
       "version_minor": 0
      },
      "method": "display_data"
     },
     "metadata": {},
     "output_type": "display_data"
    },
    {
     "data": {
      "application/vnd.jupyter.widget-view+json": {
       "model_id": "15a2895b-3431-497d-bc91-8989ef3829a8",
       "version_major": 2,
       "version_minor": 0
      },
      "method": "display_data"
     },
     "metadata": {},
     "output_type": "display_data"
    }
   ],
   "source": [
    "SELECT * FROM Pessoa;\n",
    "SELECT * FROM Medicamento;\n",
    "SELECT * FROM UsoMedicamento;"
   ]
  },
  {
   "cell_type": "markdown",
   "metadata": {},
   "source": [
    "# I. Análise de comportamento estatístico"
   ]
  },
  {
   "cell_type": "markdown",
   "metadata": {},
   "source": [
    "## 1) Contabilizando o uso de medicamentos\n",
    "\n",
    "* Liste o nome de todos os medicamentos e a quantidade de pessoas que usa cada um deles."
   ]
  },
  {
   "cell_type": "code",
   "execution_count": 4,
   "metadata": {},
   "outputs": [
    {
     "data": {
      "application/vnd.jupyter.widget-view+json": {
       "model_id": "d3ab5ea1-5632-4c79-89ed-530d57c1216d",
       "version_major": 2,
       "version_minor": 0
      },
      "method": "display_data"
     },
     "metadata": {},
     "output_type": "display_data"
    }
   ],
   "source": [
    "select NOMEMEDICAMENTO, count(*) as numero\n",
    "from (select IDPESSOA, NOMEMEDICAMENTO from Medicamento, UsoMedicamento\n",
    "         where Medicamento.CODIGO = UsoMedicamento.CODMEDICAMENTO\n",
    "     ) as pessoamed\n",
    "group by NOMEMEDICAMENTO\n",
    "order by numero DESC;"
   ]
  },
  {
   "cell_type": "markdown",
   "metadata": {},
   "source": [
    "## 2) Medicamento mais usado com VIEW\n",
    "\n",
    "* Informe o código do medicamento mais usado: fazendo uso de VIEW."
   ]
  },
  {
   "cell_type": "code",
   "execution_count": 5,
   "metadata": {},
   "outputs": [],
   "source": [
    "create view mediusados as select CODIGO, count(*) as numero\n",
    "from (select IDPESSOA, CODIGO from Medicamento, UsoMedicamento\n",
    "         where Medicamento.CODIGO = UsoMedicamento.CODMEDICAMENTO\n",
    "     ) as pessoamed\n",
    "group by CODIGO\n",
    "order by numero DESC;"
   ]
  },
  {
   "cell_type": "code",
   "execution_count": 6,
   "metadata": {},
   "outputs": [
    {
     "data": {
      "text/plain": [
       "d00732"
      ]
     },
     "execution_count": 6,
     "metadata": {},
     "output_type": "execute_result"
    }
   ],
   "source": [
    "select codigo from (select top 1* from mediusados);"
   ]
  },
  {
   "cell_type": "markdown",
   "metadata": {},
   "source": [
    "## 3) Medicamento mais usado sem VIEW\n",
    "\n",
    "* Informe o código do medicamento mais usado: sem fazer uso de VIEW."
   ]
  },
  {
   "cell_type": "code",
   "execution_count": 7,
   "metadata": {},
   "outputs": [
    {
     "data": {
      "text/plain": [
       "d00732"
      ]
     },
     "execution_count": 7,
     "metadata": {},
     "output_type": "execute_result"
    }
   ],
   "source": [
    "select codigo from (select top 1* from (select CODIGO, count(*) as numero\n",
    "from (select IDPESSOA, CODIGO from Medicamento, UsoMedicamento\n",
    "         where Medicamento.CODIGO = UsoMedicamento.CODMEDICAMENTO\n",
    "     ) as pessoamed\n",
    "group by CODIGO\n",
    "order by numero DESC));"
   ]
  },
  {
   "cell_type": "markdown",
   "metadata": {},
   "source": [
    "## 4) Nome do medicamento mais usado\n",
    "* Informe o nome do medicamento mais usado (uso de VIEW é opcional)."
   ]
  },
  {
   "cell_type": "code",
   "execution_count": 8,
   "metadata": {},
   "outputs": [
    {
     "data": {
      "text/plain": [
       "LISINOPRIL"
      ]
     },
     "execution_count": 8,
     "metadata": {},
     "output_type": "execute_result"
    }
   ],
   "source": [
    "select nomemedicamento from (select top 1* from (select nomemedicamento, count(*) as numero\n",
    "from (select IDPESSOA, nomemedicamento from Medicamento, UsoMedicamento\n",
    "         where Medicamento.CODIGO = UsoMedicamento.CODMEDICAMENTO\n",
    "     ) as pessoamed\n",
    "group by nomemedicamento\n",
    "order by numero DESC));"
   ]
  },
  {
   "cell_type": "markdown",
   "metadata": {},
   "source": [
    "## 5) Contabilizando quanto as pessoas usam de medicamento\n",
    "\n",
    "* Informe o número médio de uso de medicamento por pessoa."
   ]
  },
  {
   "cell_type": "code",
   "execution_count": 9,
   "metadata": {},
   "outputs": [
    {
     "data": {
      "text/plain": [
       "3"
      ]
     },
     "execution_count": 9,
     "metadata": {},
     "output_type": "execute_result"
    }
   ],
   "source": [
    "select avg(numero) as media from (select IDPESSOA, count(*) as numero from UsoMedicamento group by IDPESSOA);"
   ]
  },
  {
   "cell_type": "markdown",
   "metadata": {},
   "source": [
    "## 6) Pessoas que usam mais do que a média\n",
    "\n",
    "* Liste o id das pessoas que usam mais medicamentos do que a média."
   ]
  },
  {
   "cell_type": "code",
   "execution_count": 10,
   "metadata": {},
   "outputs": [
    {
     "data": {
      "application/vnd.jupyter.widget-view+json": {
       "model_id": "2fc2b529-64e5-4cf7-a7a4-de4546ec0d8e",
       "version_major": 2,
       "version_minor": 0
      },
      "method": "display_data"
     },
     "metadata": {},
     "output_type": "display_data"
    }
   ],
   "source": [
    "select IDPESSOA, NUMERO from (select IDPESSOA, count(*) as numero from UsoMedicamento group by IDPESSOA) as nmeds\n",
    " where nmeds.numero > (select avg(numero) from (select IDPESSOA, count(*) as numero from UsoMedicamento group by IDPESSOA))\n",
    " order by numero;"
   ]
  },
  {
   "cell_type": "markdown",
   "metadata": {},
   "source": [
    "## 7) Análise do uso de medicamento\n",
    "\n",
    "* Considere que um médico quer fazer responder a seguinte questão: pessoas tendem a usar mais medicamentos conforme ficam mais velhas?\n",
    "* Escreva uma query que ajude o médico a realizar esta análise."
   ]
  },
  {
   "cell_type": "code",
   "execution_count": 11,
   "metadata": {},
   "outputs": [
    {
     "data": {
      "application/vnd.jupyter.widget-view+json": {
       "model_id": "c45ec6c3-0bd1-412a-bd52-fa37a95a2970",
       "version_major": 2,
       "version_minor": 0
      },
      "method": "display_data"
     },
     "metadata": {},
     "output_type": "display_data"
    }
   ],
   "source": [
    "select IDADE, AVG(number) from \n",
    "    (select ID, IDADE, count(*) as number from \n",
    "         (select ID, IDADE, CODMEDICAMENTO as CODIGO from Pessoa, UsoMedicamento where Pessoa.ID = UsoMedicamento.IDPESSOA)\n",
    "     group by ID)\n",
    "group by IDADE\n",
    "Order by IDADE DESC;"
   ]
  },
  {
   "cell_type": "markdown",
   "metadata": {},
   "source": [
    "# II. Análise de correlação em pares\n",
    "## Estudo de ação cruzada entre medicamentos\n",
    "\n",
    "* Um pesquisador quer estudar o efeito cruzado de usar dois medicamentos simultaneamente. \n",
    "* Para isso ele precisará da seguinte sequência de queries."
   ]
  },
  {
   "cell_type": "markdown",
   "metadata": {},
   "source": [
    "## 8) Medicamentos tomados em conjunto\n",
    "* Construa uma VIEW com duas colunas: medicamentoA, medicamentoB\n",
    "* Nessa VIEW, é criada uma tupla (medicamentoA, medicamentoB) toda vez que uma pessoa toma o medicamento A e também o medicamento B.\n",
    "* Haverá repetição de tuplas, já que mais de uma pessoa pode tomar o mesmo par de medicamentos.\n",
    "* Cuidado para não duplicar a mesma informação, ou seja, considerando que uma pessoa tomou o medicamentoX e o medicamentoY, cuidado para não criar duas tuplas: (medicamentoX, medicamentoY) e (medicamentoY, medicamentoX)."
   ]
  },
  {
   "cell_type": "code",
   "execution_count": 12,
   "metadata": {},
   "outputs": [],
   "source": [
    "create view tuplasmed as select uso1.CODMEDICAMENTO as medicamentoA, uso2.CODMEDICAMENTO as medicamentoB\n",
    "from UsoMedicamento as uso1, UsoMedicamento as uso2\n",
    "where uso1.IDPESSOA = uso2.IDPESSOA AND uso1.CODMEDICAMENTO < uso2.CODMEDICAMENTO\n",
    "order by uso1.CODMEDICAMENTO, uso2.CODMEDICAMENTO;"
   ]
  },
  {
   "cell_type": "code",
   "execution_count": 20,
   "metadata": {},
   "outputs": [
    {
     "data": {
      "application/vnd.jupyter.widget-view+json": {
       "model_id": "a8c28499-921e-4fed-a75b-7b758fd266fe",
       "version_major": 2,
       "version_minor": 0
      },
      "method": "display_data"
     },
     "metadata": {},
     "output_type": "display_data"
    }
   ],
   "source": [
    "select * from tuplasmed order by MEDICAMENTOB,MEDICAMENTOA;"
   ]
  },
  {
   "cell_type": "markdown",
   "metadata": {},
   "source": [
    "## 9) Total de medicamento tomados em conjunto\n",
    "* Apresente o total de pessoas que toma cada par de medicamentos."
   ]
  },
  {
   "cell_type": "code",
   "execution_count": 14,
   "metadata": {},
   "outputs": [
    {
     "data": {
      "application/vnd.jupyter.widget-view+json": {
       "model_id": "cbf04cd6-5256-40a5-827c-b4b99e2c8944",
       "version_major": 2,
       "version_minor": 0
      },
      "method": "display_data"
     },
     "metadata": {},
     "output_type": "display_data"
    }
   ],
   "source": [
    "select MEDICAMENTOA, MEDICAMENTOB, count(*) as numero from tuplasmed\n",
    "group by MEDICAMENTOA, MEDICAMENTOB\n",
    "order by numero DESC;"
   ]
  },
  {
   "cell_type": "markdown",
   "metadata": {},
   "source": [
    "# III. Análise de correlação entre variáveis\n",
    "* Consiste na análise da seguinte questão: como a alteração de uma variável afeta a outra.\n",
    "## Matriz de análise\n",
    "* Considere a matriz abaixo."
   ]
  },
  {
   "cell_type": "code",
   "execution_count": 15,
   "metadata": {},
   "outputs": [
    {
     "data": {
      "application/vnd.jupyter.widget-view+json": {
       "model_id": "b3ef3d6b-001a-4021-b818-7af554e8519c",
       "version_major": 2,
       "version_minor": 0
      },
      "method": "display_data"
     },
     "metadata": {},
     "output_type": "display_data"
    }
   ],
   "source": [
    "CREATE TABLE Matriz (\n",
    "  Id VARCHAR(5) NOT NULL,\n",
    "  Genero INTEGER,\n",
    "  Idade INTEGER,\n",
    "  IdadeAte60 BOOLEAN,\n",
    "  MaisUmAnoMedicamento BOOLEAN,\n",
    "  MedicamentosAcimaMedia BOOLEAN,\n",
    "  PRIMARY KEY(Id)\n",
    ") AS SELECT\n",
    "    Id,\n",
    "    Genero,\n",
    "    Idade,\n",
    "    FALSE, FALSE, FALSE\n",
    "FROM CSVREAD('../../../data/nhanes/demographic-person.csv');\n",
    "\n",
    "SELECT * FROM Matriz;"
   ]
  },
  {
   "cell_type": "markdown",
   "metadata": {},
   "source": [
    "## 10) Atualização simples da matriz\n",
    "* Utilize o comando UPDATE para atualizar a coluna IdadeAte60 da tabela colocando verdadeiro para as pessoas que têm até 60 anos de idade."
   ]
  },
  {
   "cell_type": "code",
   "execution_count": 16,
   "metadata": {},
   "outputs": [
    {
     "data": {
      "application/vnd.jupyter.widget-view+json": {
       "model_id": "6b9143da-6340-47d0-a1d4-f75c23d17d5a",
       "version_major": 2,
       "version_minor": 0
      },
      "method": "display_data"
     },
     "metadata": {},
     "output_type": "display_data"
    }
   ],
   "source": [
    "update Matriz\n",
    "set IdadeAte60=TRUE\n",
    "WHERE Idade <= 60;\n",
    "SELECT * FROM Matriz;"
   ]
  },
  {
   "cell_type": "markdown",
   "metadata": {},
   "source": [
    "## 11) Atualização vinculada a uma segunda tabela\n",
    "* Utilize o comando UPDATE para atualizar a coluna MaisUmAnoMedicamento, colocando verdadeiro para aquelas pessoas que usam pelo menos um medicamento há mais de um ano."
   ]
  },
  {
   "cell_type": "code",
   "execution_count": 17,
   "metadata": {},
   "outputs": [
    {
     "data": {
      "application/vnd.jupyter.widget-view+json": {
       "model_id": "2d155b19-2f70-47cf-8766-679a1fa44caa",
       "version_major": 2,
       "version_minor": 0
      },
      "method": "display_data"
     },
     "metadata": {},
     "output_type": "display_data"
    }
   ],
   "source": [
    "update Matriz\n",
    "set MaisUmAnoMedicamento=TRUE\n",
    "WHERE 365 < (select max(DIASUSO) from UsoMedicamento where UsoMedicamento.IDPESSOA = Matriz.ID );\n",
    "SELECT * FROM Matriz;"
   ]
  },
  {
   "cell_type": "markdown",
   "metadata": {},
   "source": [
    "## 12) Atualização baseada em uma consulta complexa\n",
    "* Utilize o comando UPDATE para atualizar a coluna MedicamentosAcimaMedia, colocando verdadeiro para aquelas pessoas que usam um número de medicamentos acima da média."
   ]
  },
  {
   "cell_type": "code",
   "execution_count": 18,
   "metadata": {},
   "outputs": [
    {
     "data": {
      "application/vnd.jupyter.widget-view+json": {
       "model_id": "e8a55288-4e85-4eda-aed5-671231a0b47e",
       "version_major": 2,
       "version_minor": 0
      },
      "method": "display_data"
     },
     "metadata": {},
     "output_type": "display_data"
    }
   ],
   "source": [
    "update matriz\n",
    "set MedicamentosAcimaMedia = true\n",
    "where Matriz.ID in (select IDPESSOA from (select IDPESSOA, count(*) as numero from UsoMedicamento group by IDPESSOA) as nmeds\n",
    " where nmeds.numero > (select avg(numero) from (select IDPESSOA, count(*) as numero from UsoMedicamento group by IDPESSOA)))\n",
    ";\n",
    "SELECT * FROM Matriz;"
   ]
  },
  {
   "cell_type": "markdown",
   "metadata": {},
   "source": [
    "## 13) Que análise interessante pode ser feita?\n",
    "* A partir da Matriz criada, proponha uma análise interessante."
   ]
  },
  {
   "cell_type": "markdown",
   "metadata": {},
   "source": [
    "### 13a) Descreva a seguir (em Markdown) qual a análise que você propõe."
   ]
  },
  {
   "cell_type": "markdown",
   "metadata": {},
   "source": [
    "Analisar se pessoas mais velhas tem uma tendência maior de tomar remédios por mais de um ano."
   ]
  },
  {
   "cell_type": "markdown",
   "metadata": {},
   "source": [
    "### 13b) Escreva uma consulta em SQL que fornece informações para a análise proposta."
   ]
  },
  {
   "cell_type": "code",
   "execution_count": 19,
   "metadata": {},
   "outputs": [
    {
     "data": {
      "application/vnd.jupyter.widget-view+json": {
       "model_id": "6f355105-bc3c-414d-b265-07dca70ae86c",
       "version_major": 2,
       "version_minor": 0
      },
      "method": "display_data"
     },
     "metadata": {},
     "output_type": "display_data"
    }
   ],
   "source": [
    "select idade, MaisUmAnoMedicamento, count(*) as numero from Matriz group by idade, MaisUmAnoMedicamento \n",
    "Order by Idade DESC, MAISUMANOMEDICAMENTO DESC;"
   ]
  },
  {
   "cell_type": "code",
   "execution_count": null,
   "metadata": {},
   "outputs": [],
   "source": []
  }
 ],
 "metadata": {
  "kernelspec": {
   "display_name": "SQL",
   "language": "SQL",
   "name": "sql"
  },
  "language_info": {
   "codemirror_mode": "sql",
   "file_extension": ".sql",
   "mimetype": "",
   "name": "SQL",
   "nbconverter_exporter": "",
   "version": ""
  }
 },
 "nbformat": 4,
 "nbformat_minor": 4
}
